{
 "cells": [
  {
   "cell_type": "markdown",
   "metadata": {},
   "source": [
    "### Splitting Dataset to `train` and `test` "
   ]
  },
  {
   "cell_type": "code",
   "execution_count": 1,
   "metadata": {},
   "outputs": [],
   "source": [
    "import os\n",
    "import os\n",
    "import numpy as np\n",
    "import shutil\n",
    "import random\n"
   ]
  },
  {
   "cell_type": "code",
   "execution_count": 2,
   "metadata": {},
   "outputs": [
    {
     "data": {
      "text/plain": [
       "['KAMAZ_ALLKAMAZ_C',\n",
       " 'LADA_PRIORA_B',\n",
       " 'MAZDA_3_B',\n",
       " 'RЕNАULТ_DUSТЕR_B',\n",
       " 'SCANIA_ALLSCANIA_C',\n",
       " 'TOYOTA_RАV4_B',\n",
       " 'VOLVO_ALLVOLVO_C',\n",
       " 'VОLКSWАGЕN_TIGUAN_B',\n",
       " 'VОLКSWАGЕN_РОLО_B',\n",
       " 'КIА_RIО_B',\n",
       " 'НУUNDАI_SОLАRIS_B']"
      ]
     },
     "execution_count": 2,
     "metadata": {},
     "output_type": "execute_result"
    }
   ],
   "source": [
    "DATASET_DIR = \"./GRZ_and_model_recognition/learn/\"\n",
    "NUM_CLASSES = 11\n",
    "data_dir = os.listdir('./GRZ_and_model_recognition/learn/')\n",
    "data_dir"
   ]
  },
  {
   "cell_type": "code",
   "execution_count": 6,
   "metadata": {},
   "outputs": [
    {
     "name": "stdout",
     "output_type": "stream",
     "text": [
      "['KAMAZ_ALLKAMAZ_C', 'LADA_PRIORA_B', 'MAZDA_3_B', 'RЕNАULТ_DUSТЕR_B', 'SCANIA_ALLSCANIA_C', 'TOYOTA_RАV4_B', 'VOLVO_ALLVOLVO_C', 'VОLКSWАGЕN_TIGUAN_B', 'VОLКSWАGЕN_РОLО_B', 'КIА_RIО_B', 'НУUNDАI_SОLАRIS_B']\n",
      "11\n"
     ]
    }
   ],
   "source": [
    "# # Creating Train / Val / Test folders (One time use)\n",
    "root_dir = DATASET_DIR\n",
    "classes_dir = data_dir\n",
    "classes_dir = list(filter(lambda x:x not in ['test','train','val'],classes_dir))\n",
    "\n",
    "print(classes_dir)\n",
    "print(len(classes_dir))"
   ]
  },
  {
   "cell_type": "code",
   "execution_count": 4,
   "metadata": {},
   "outputs": [
    {
     "name": "stdout",
     "output_type": "stream",
     "text": [
      "Class 0: KAMAZ_ALLKAMAZ_C\n",
      "Total images:  21628\n",
      "Training:  19465\n",
      "Validation:  2163\n",
      "--------\n",
      "Class 1: LADA_PRIORA_B\n",
      "Total images:  6357\n",
      "Training:  5721\n",
      "Validation:  636\n",
      "--------\n",
      "Class 2: MAZDA_3_B\n",
      "Total images:  12387\n",
      "Training:  11148\n",
      "Validation:  1239\n",
      "--------\n",
      "Class 3: RЕNАULТ_DUSТЕR_B\n",
      "Total images:  9612\n",
      "Training:  8650\n",
      "Validation:  962\n",
      "--------\n",
      "Class 4: SCANIA_ALLSCANIA_C\n",
      "Total images:  21744\n",
      "Training:  19569\n",
      "Validation:  2175\n",
      "--------\n",
      "Class 5: TOYOTA_RАV4_B\n",
      "Total images:  12256\n",
      "Training:  11030\n",
      "Validation:  1226\n",
      "--------\n",
      "Class 6: VOLVO_ALLVOLVO_C\n",
      "Total images:  12792\n",
      "Training:  11512\n",
      "Validation:  1280\n",
      "--------\n",
      "Class 7: VОLКSWАGЕN_TIGUAN_B\n",
      "Total images:  4772\n",
      "Training:  4294\n",
      "Validation:  478\n",
      "--------\n",
      "Class 8: VОLКSWАGЕN_РОLО_B\n",
      "Total images:  12877\n",
      "Training:  11589\n",
      "Validation:  1288\n",
      "--------\n",
      "Class 9: КIА_RIО_B\n",
      "Total images:  21744\n",
      "Training:  19569\n",
      "Validation:  2175\n",
      "--------\n",
      "Class 10: НУUNDАI_SОLАRIS_B\n",
      "Total images:  20201\n",
      "Training:  18180\n",
      "Validation:  2021\n",
      "--------\n"
     ]
    }
   ],
   "source": [
    "for num, cls in enumerate(classes_dir):\n",
    "    try:\n",
    "        os.makedirs(root_dir +'train/' + cls)\n",
    "        os.makedirs(root_dir +'val/' + cls)\n",
    "    except Exception as e:\n",
    "        print('This root has been already created!')\n",
    "\n",
    "    # Creating partitions of the data after shuffeling\n",
    "    src = root_dir + cls # Folder to copy images from\n",
    "\n",
    "    allFileNames = os.listdir(src)\n",
    "  \n",
    "    train_border = int(len(allFileNames)*0.9)\n",
    "    \n",
    "    train_FileNames = allFileNames[:train_border]\n",
    "    val_FileNames = allFileNames[train_border:]\n",
    "    \n",
    "    train_FileNames = [src+'/'+ name for name in train_FileNames]\n",
    "    val_FileNames = [src+'/' + name for name in val_FileNames]\n",
    "\n",
    "    print(f'Class {num}: {cls}')\n",
    "    print('Total images: ', len(allFileNames))\n",
    "    print('Training: ', len(train_FileNames))\n",
    "    print('Validation: ', len(val_FileNames))\n",
    "    print('--------')\n",
    "\n",
    "    # Copy-pasting images\n",
    "    for name in train_FileNames:\n",
    "        shutil.copy(name, root_dir +'/train/' + cls)\n",
    "\n",
    "    for name in val_FileNames:\n",
    "        shutil.copy(name, root_dir +'/val/' + cls)"
   ]
  },
  {
   "cell_type": "code",
   "execution_count": 19,
   "metadata": {},
   "outputs": [],
   "source": []
  }
 ],
 "metadata": {
  "kernelspec": {
   "display_name": "Python 3",
   "language": "python",
   "name": "python3"
  },
  "language_info": {
   "codemirror_mode": {
    "name": "ipython",
    "version": 3
   },
   "file_extension": ".py",
   "mimetype": "text/x-python",
   "name": "python",
   "nbconvert_exporter": "python",
   "pygments_lexer": "ipython3",
   "version": "3.8.3"
  }
 },
 "nbformat": 4,
 "nbformat_minor": 4
}
